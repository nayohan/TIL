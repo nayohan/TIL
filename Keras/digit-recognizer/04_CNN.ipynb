{
 "cells": [
  {
   "cell_type": "code",
   "execution_count": 89,
   "metadata": {},
   "outputs": [],
   "source": [
    "import numpy as np\n",
    "import pandas as pd\n",
    "import matplotlib.pyplot as plt\n",
    "\n",
    "import keras\n",
    "from keras import models\n",
    "from keras import layers\n",
    "from keras import optimizers\n",
    "from keras.layers.normalization import BatchNormalization"
   ]
  },
  {
   "cell_type": "code",
   "execution_count": 90,
   "metadata": {},
   "outputs": [],
   "source": [
    "train = np.loadtxt('train.csv', delimiter=',', dtype=np.float32)\n",
    "x_test = np.loadtxt('test.csv', delimiter=',', dtype=np.float32)"
   ]
  },
  {
   "cell_type": "code",
   "execution_count": 91,
   "metadata": {},
   "outputs": [],
   "source": [
    "x_train = train[:, 1:785]\n",
    "y_train = train[:, 0]\n",
    "\n",
    "x_train = x_train.reshape( 42000, 28, 28, 1)\n",
    "x_train = x_train/255\n",
    "x_test = x_test.reshape(28000, 28, 28, 1)\n",
    "x_test = x_test/255\n",
    "y_train = keras.utils.to_categorical(y_train)"
   ]
  },
  {
   "cell_type": "code",
   "execution_count": 131,
   "metadata": {
    "scrolled": false
   },
   "outputs": [
    {
     "name": "stdout",
     "output_type": "stream",
     "text": [
      "Epoch 1/20\n",
      "42000/42000 [==============================] - 13s 310us/step - loss: 0.3243 - acc: 0.9130\n",
      "Epoch 2/20\n",
      "42000/42000 [==============================] - 9s 223us/step - loss: 0.0725 - acc: 0.9779\n",
      "Epoch 3/20\n",
      "42000/42000 [==============================] - 9s 223us/step - loss: 0.0544 - acc: 0.9831\n",
      "Epoch 4/20\n",
      "42000/42000 [==============================] - 9s 225us/step - loss: 0.0440 - acc: 0.9858\n",
      "Epoch 5/20\n",
      "42000/42000 [==============================] - 9s 223us/step - loss: 0.0370 - acc: 0.9882\n",
      "Epoch 6/20\n",
      "42000/42000 [==============================] - 9s 223us/step - loss: 0.0329 - acc: 0.9897\n",
      "Epoch 7/20\n",
      "42000/42000 [==============================] - 9s 225us/step - loss: 0.0271 - acc: 0.9914\n",
      "Epoch 8/20\n",
      "42000/42000 [==============================] - 9s 224us/step - loss: 0.0237 - acc: 0.9925\n",
      "Epoch 9/20\n",
      "42000/42000 [==============================] - 9s 225us/step - loss: 0.0240 - acc: 0.9920\n",
      "Epoch 10/20\n",
      "42000/42000 [==============================] - 9s 224us/step - loss: 0.0208 - acc: 0.9936\n",
      "Epoch 11/20\n",
      "42000/42000 [==============================] - 9s 224us/step - loss: 0.0185 - acc: 0.9938\n",
      "Epoch 12/20\n",
      "42000/42000 [==============================] - 9s 225us/step - loss: 0.0184 - acc: 0.9941\n",
      "Epoch 13/20\n",
      "42000/42000 [==============================] - 9s 224us/step - loss: 0.0154 - acc: 0.9950\n",
      "Epoch 14/20\n",
      "42000/42000 [==============================] - 9s 224us/step - loss: 0.0173 - acc: 0.9948\n",
      "Epoch 15/20\n",
      "42000/42000 [==============================] - 9s 225us/step - loss: 0.0169 - acc: 0.9947\n",
      "Epoch 16/20\n",
      "42000/42000 [==============================] - 9s 224us/step - loss: 0.0152 - acc: 0.9945\n",
      "Epoch 17/20\n",
      "42000/42000 [==============================] - 9s 224us/step - loss: 0.0146 - acc: 0.9953\n",
      "Epoch 18/20\n",
      "42000/42000 [==============================] - 9s 224us/step - loss: 0.0156 - acc: 0.9951\n",
      "Epoch 19/20\n",
      "42000/42000 [==============================] - 9s 224us/step - loss: 0.0142 - acc: 0.9955\n",
      "Epoch 20/20\n",
      "42000/42000 [==============================] - 9s 224us/step - loss: 0.0110 - acc: 0.9963\n"
     ]
    },
    {
     "data": {
      "text/plain": [
       "<keras.callbacks.History at 0x7f677d08ca58>"
      ]
     },
     "execution_count": 131,
     "metadata": {},
     "output_type": "execute_result"
    }
   ],
   "source": [
    "model = models.Sequential()\n",
    "\n",
    "model.add(layers.Conv2D(64, (3,3), kernel_initializer='he_normal',\n",
    "                        activation='relu', input_shape=(28,28,1,)))\n",
    "#model.add(BatchNormalization())\n",
    "\n",
    "model.add(layers.Conv2D(128, (3,3), kernel_initializer='he_normal', activation='relu'))\n",
    "#model.add(BatchNormalization())\n",
    "\n",
    "model.add(layers.Conv2D(256, (5,5), kernel_initializer='he_normal', activation='relu'))\n",
    "#model.add(BatchNormalization())\n",
    "\n",
    "model.add(layers.MaxPooling2D(pool_size=(2,2)))\n",
    "model.add(layers.Dropout(0.5))\n",
    "\n",
    "model.add(layers.Flatten())\n",
    "model.add(layers.Dense(250, activation='relu'))\n",
    "#model.add(BatchNormalization())\n",
    "model.add(layers.Dropout(0.5))\n",
    "model.add(layers.Dense(10, activation='softmax'))\n",
    "\n",
    "model.compile(optimizer=optimizers.Adam(lr=0.001), loss=keras.losses.categorical_crossentropy, metrics=['accuracy'])\n",
    "model.fit(x_train, y_train, batch_size=300, epochs=20)"
   ]
  },
  {
   "cell_type": "code",
   "execution_count": 127,
   "metadata": {},
   "outputs": [
    {
     "name": "stdout",
     "output_type": "stream",
     "text": [
      "10000/10000 [==============================] - 2s 206us/step\n",
      "[2.1353612089780394, 0.8665]\n"
     ]
    }
   ],
   "source": [
    "(x,y), (x_t, y_t) = keras.datasets.mnist.load_data()\n",
    "x_t = x_t.reshape(10000,28,28,1)\n",
    "y_t = keras.utils.to_categorical(y_t)\n",
    "score = model.evaluate(x_t, y_t)\n",
    "print(score)"
   ]
  },
  {
   "cell_type": "code",
   "execution_count": 128,
   "metadata": {},
   "outputs": [],
   "source": [
    "y_test = model.predict(x_test)\n",
    "y_test = np.argmax(y_test, axis=1)\n",
    "Id = np.arange(1, x_test.shape[0]+1)"
   ]
  },
  {
   "cell_type": "code",
   "execution_count": 129,
   "metadata": {},
   "outputs": [],
   "source": [
    "dataframe = pd.DataFrame({'ImageId':Id, 'Label':y_test})\n",
    "dataframe.to_csv(\"submission.csv\", index=False)"
   ]
  },
  {
   "cell_type": "code",
   "execution_count": 130,
   "metadata": {},
   "outputs": [
    {
     "data": {
      "image/png": "[encoded data removed]",
      "text/plain": [
       "<Figure size 432x288 with 1 Axes>"
      ]
     },
     "metadata": {},
     "output_type": "display_data"
    },
    {
     "name": "stdout",
     "output_type": "stream",
     "text": [
      "9\n"
     ]
    }
   ],
   "source": [
    "digit = x_test[3]\n",
    "digit = digit.reshape((28,28))\n",
    "plt.imshow(digit, cmap=plt.cm.binary)\n",
    "plt.show()\n",
    "print(y_test[3])"
   ]
  },
  {
   "cell_type": "code",
   "execution_count": 119,
   "metadata": {},
   "outputs": [
    {
     "name": "stdout",
     "output_type": "stream",
     "text": [
      "(28000, 28, 28, 1)\n",
      "(28000,)\n"
     ]
    }
   ],
   "source": [
    "print(x_test.shape)\n",
    "print(y_test.shape)"
   ]
  },
  {
   "cell_type": "code",
   "execution_count": null,
   "metadata": {},
   "outputs": [],
   "source": []
  }
 ],
 "metadata": {
  "kernelspec": {
   "display_name": "Python 3",
   "language": "python",
   "name": "python3"
  },
  "language_info": {
   "codemirror_mode": {
    "name": "ipython",
    "version": 3
   },
   "file_extension": ".py",
   "mimetype": "text/x-python",
   "name": "python",
   "nbconvert_exporter": "python",
   "pygments_lexer": "ipython3",
   "version": "3.5.2"
  }
 },
 "nbformat": 4,
 "nbformat_minor": 2
}
