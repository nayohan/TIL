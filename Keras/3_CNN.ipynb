{
 "cells": [
  {
   "cell_type": "markdown",
   "metadata": {},
   "source": [
    "# 합성곱 신경망(CNN)\n",
    "\n",
    "영상 처리에 많이 활용되는 합성곱을 이요하는 인공신경망 기술으로 CNN은 합성곱을 이용해 가중치 수를 줄여 연산량을 줄이면서도 이미지 처리를 효과적으로 할수 있습니다. 이를 통해 이미지의 특장점을 효율적으로 찾을 수 있어 인공신경망 효능을 더 높일수 있습니다. \n",
    "\n",
    "- CNN의 원리\n",
    "- 필기체를 분류하는 CNN 구현\n",
    "- 컬러 이미지를 분류하는 CNN 구현\n",
    "\n",
    "\n",
    "\n",
    "## 1.CNN의 원리\n",
    "\n",
    "CNN은 합성곱 필터(Convolution Filter)를 이용하여 신경망 동작을 수행합니다. 여러 작은 필터가 이미지 위를 돌아다니면서 특징점들을 찾아 그 합성곱 결과를 다음 계층으로 보냅니다. 적은 수의 가중치로 이미지 처리를 효율적으로 할수 있습니다.\n",
    "\n",
    "CNN은 2차원이나 그 이상 차원의 데이터 처리에 적합합니다. CNN의 처리를 이해하는데 도움이 되도록 DNN의 처리방법과 비교해보면 DNN은 이미지를 1차원 벡터로 변환하여 전 계층이 1차원 방식으로 신호를 처리하기 때무에 2차원 특성을 처리하기에는 한계가 있습니다. 반면 CNN은 2차원으로 각 노드를 처리하기 떄문에 이미지에 더 적합합니다. cNN의 이미지의 높이와 넓이를 생각하면서 2차원 처리를 수행합니다. 그리고 컬러 이미지를 다룰 경우 컬러에 대한 계층은 깊이라는 별도의 차원으로 관리합니다. \n",
    "\n",
    "또한  CNN은 합성곱계층이 끝아면 맥스풀링계층을 이용해 각 지역별로 최댓값을 찾아줍니다. 이렇게 하면 특징점 위치가 약간씩 달라져도 딥러닝을 제대로 수행합니다.\n",
    "\n",
    "\n",
    "\n",
    "## 2. 필기체를 분류하는 CNN\n",
    "\n",
    "1. 분류 CNN 모델링\n",
    "2. 분류 CNN을 위한 데이터 준비\n",
    "3. 학습 효과 분석\n",
    "4. 분류 CNN 학습 및 성능 평가\n"
   ]
  },
  {
   "cell_type": "code",
   "execution_count": 1,
   "metadata": {
    "scrolled": true
   },
   "outputs": [
    {
     "ename": "ModuleNotFoundError",
     "evalue": "No module named 'keras'",
     "output_type": "error",
     "traceback": [
      "\u001b[1;31m---------------------------------------------------------------------------\u001b[0m",
      "\u001b[1;31mModuleNotFoundError\u001b[0m                       Traceback (most recent call last)",
      "\u001b[1;32m<ipython-input-1-88d96843a926>\u001b[0m in \u001b[0;36m<module>\u001b[1;34m\u001b[0m\n\u001b[1;32m----> 1\u001b[1;33m \u001b[1;32mimport\u001b[0m \u001b[0mkeras\u001b[0m\u001b[1;33m\u001b[0m\u001b[1;33m\u001b[0m\u001b[0m\n\u001b[0m",
      "\u001b[1;31mModuleNotFoundError\u001b[0m: No module named 'keras'"
     ]
    }
   ],
   "source": [
    "import keras"
   ]
  }
 ],
 "metadata": {
  "kernelspec": {
   "display_name": "Python 3",
   "language": "python",
   "name": "python3"
  },
  "language_info": {
   "codemirror_mode": {
    "name": "ipython",
    "version": 3
   },
   "file_extension": ".py",
   "mimetype": "text/x-python",
   "name": "python",
   "nbconvert_exporter": "python",
   "pygments_lexer": "ipython3",
   "version": "3.7.1"
  }
 },
 "nbformat": 4,
 "nbformat_minor": 2
}
