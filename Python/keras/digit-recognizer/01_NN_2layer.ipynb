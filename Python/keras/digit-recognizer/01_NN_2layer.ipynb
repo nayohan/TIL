{
 "cells": [
  {
   "cell_type": "code",
   "execution_count": 283,
   "metadata": {},
   "outputs": [],
   "source": [
    "#훈련 데이터 로드\n",
    "import numpy as np\n",
    "train_data = np.loadtxt(\"train.csv\", delimiter=\",\", dtype=np.float32)\n",
    "x_test = np.loadtxt(\"test.csv\", delimiter=\",\", dtype=np.float32)"
   ]
  },
  {
   "cell_type": "code",
   "execution_count": 284,
   "metadata": {},
   "outputs": [
    {
     "name": "stdout",
     "output_type": "stream",
     "text": [
      "2\n",
      "(42000, 785)\n",
      "float32\n",
      "(42000, 784)\n",
      "(42000,)\n"
     ]
    }
   ],
   "source": [
    "#X Y데이터 분리\n",
    "print(train_data.ndim)\n",
    "print(train_data.shape)\n",
    "print(train_data.dtype)\n",
    "y_train = train_data[:, 0]\n",
    "x_train = train_data[:, 1:]\n",
    "x_train = x_train/255\n",
    "x_test = x_test/255\n",
    "print(x_train.shape)\n",
    "print(y_train.shape)"
   ]
  },
  {
   "cell_type": "code",
   "execution_count": 285,
   "metadata": {},
   "outputs": [],
   "source": [
    "def to_categori(y):\n",
    "    #(42000,)\n",
    "    y_len = y.shape\n",
    "    y_len = (int(str(y_len[0])))\n",
    "\n",
    "    result = np.zeros((y_len,10))\n",
    "    for i in range (0,y_len):\n",
    "        for j in range(0,10):\n",
    "            if(y[i] == j):\n",
    "                result[i,j]=1;\n",
    "    return result"
   ]
  },
  {
   "cell_type": "code",
   "execution_count": 286,
   "metadata": {},
   "outputs": [
    {
     "name": "stdout",
     "output_type": "stream",
     "text": [
      "(42000,)\n",
      "8.0\n",
      "(42000, 10)\n",
      "[0. 0. 0. 0. 0. 0. 0. 0. 1. 0.]\n"
     ]
    }
   ],
   "source": [
    "#Y데이터 원핫 인코딩\n",
    "y_train = train_data[:, 0]\n",
    "print(y_train.shape)\n",
    "print(y_train[10])\n",
    "\n",
    "y_train = to_categori(y_train)\n",
    "print(y_train.shape)\n",
    "print(y_train[10])\n"
   ]
  },
  {
   "cell_type": "code",
   "execution_count": 287,
   "metadata": {},
   "outputs": [
    {
     "name": "stdout",
     "output_type": "stream",
     "text": [
      "Epoch 1/10\n",
      "42000/42000 [==============================] - 2s 56us/step - loss: 0.0291 - acc: 0.8202\n",
      "Epoch 2/10\n",
      "42000/42000 [==============================] - 1s 33us/step - loss: 0.0128 - acc: 0.9217\n",
      "Epoch 3/10\n",
      "42000/42000 [==============================] - 1s 33us/step - loss: 0.0106 - acc: 0.9339\n",
      "Epoch 4/10\n",
      "42000/42000 [==============================] - 1s 28us/step - loss: 0.0095 - acc: 0.9415\n",
      "Epoch 5/10\n",
      "42000/42000 [==============================] - 1s 29us/step - loss: 0.0086 - acc: 0.9478\n",
      "Epoch 6/10\n",
      "42000/42000 [==============================] - 1s 27us/step - loss: 0.0080 - acc: 0.9517\n",
      "Epoch 7/10\n",
      "42000/42000 [==============================] - 2s 37us/step - loss: 0.0074 - acc: 0.9553\n",
      "Epoch 8/10\n",
      "42000/42000 [==============================] - 2s 37us/step - loss: 0.0069 - acc: 0.9585\n",
      "Epoch 9/10\n",
      "42000/42000 [==============================] - 1s 27us/step - loss: 0.0065 - acc: 0.9617\n",
      "Epoch 10/10\n",
      "42000/42000 [==============================] - 1s 26us/step - loss: 0.0061 - acc: 0.9641\n"
     ]
    },
    {
     "data": {
      "text/plain": [
       "<keras.callbacks.History at 0x22cf5873940>"
      ]
     },
     "execution_count": 287,
     "metadata": {},
     "output_type": "execute_result"
    }
   ],
   "source": [
    "#모델 학습\n",
    "import keras\n",
    "from keras import models\n",
    "from keras import layers\n",
    "\n",
    "model = models.Sequential()\n",
    "model.add(layers.Dense(50, activation='relu', input_shape=(784,)))\n",
    "model.add(layers.Dense(10, activation='softmax'))\n",
    "\n",
    "from keras import optimizers\n",
    "model.compile(optimizer=optimizers.Adam(lr=0.0005), loss='mse', metrics=['accuracy'])\n",
    "model.fit(x_train, y_train, batch_size=128, epochs=10)"
   ]
  },
  {
   "cell_type": "code",
   "execution_count": 288,
   "metadata": {},
   "outputs": [
    {
     "name": "stdout",
     "output_type": "stream",
     "text": [
      "42000/42000 [==============================] - 2s 47us/step\n",
      "[0.0056595086077036935, 0.9674761904761905]\n"
     ]
    }
   ],
   "source": [
    "#성능 평가\n",
    "result = model.evaluate(x_train, y_train)\n",
    "print(result)"
   ]
  },
  {
   "cell_type": "code",
   "execution_count": 289,
   "metadata": {},
   "outputs": [
    {
     "name": "stdout",
     "output_type": "stream",
     "text": [
      "(28000, 10)\n",
      "(10,)\n",
      "[5.3517610e-06 5.7121273e-11 9.9997473e-01 1.8690493e-05 5.2150195e-10\n",
      " 2.0984094e-08 2.0188523e-08 6.8745232e-10 1.1518476e-06 3.4470442e-09]\n"
     ]
    }
   ],
   "source": [
    "#테스트셋 예측\n",
    "y_test = model.predict(x_test)\n",
    "print(y_test.shape)\n",
    "print(y_test[0].shape)\n",
    "print(y_test[0])\n"
   ]
  },
  {
   "cell_type": "code",
   "execution_count": 290,
   "metadata": {},
   "outputs": [
    {
     "name": "stdout",
     "output_type": "stream",
     "text": [
      "(28, 28)\n"
     ]
    },
    {
     "data": {
      "image/png": "[encoded data removed]",
      "text/plain": [
       "<Figure size 432x288 with 1 Axes>"
      ]
     },
     "metadata": {
      "needs_background": "light"
     },
     "output_type": "display_data"
    }
   ],
   "source": [
    "import matplotlib.pyplot as plt\n",
    "digit = x_test[0]\n",
    "digit = np.reshape(digit, (28,28))\n",
    "print(digit.shape)\n",
    "plt.imshow(digit, cmap=plt.cm.binary)\n",
    "plt.show()"
   ]
  },
  {
   "cell_type": "code",
   "execution_count": 291,
   "metadata": {},
   "outputs": [],
   "source": [
    "def to_value(y):\n",
    "    #(28000,10)\n",
    "    y_len = y.shape\n",
    "    y_len = (int(str(y_len[0])))\n",
    "    \n",
    "    result_y = np.zeros((y_len))\n",
    "    \n",
    "    for i in range(0,28000):\n",
    "        max_y = 0\n",
    "        for j in range(0,10):\n",
    "            if(max_y < y[i,j]):\n",
    "                max_y = y[i,j]\n",
    "                result_y[i]=j\n",
    "    return result_y\n",
    "                "
   ]
  },
  {
   "cell_type": "code",
   "execution_count": 304,
   "metadata": {},
   "outputs": [
    {
     "name": "stdout",
     "output_type": "stream",
     "text": [
      "[    1     2     3 ... 27998 27999 28000]\n",
      "(28000,)\n",
      "2\n",
      "(28000,)\n"
     ]
    }
   ],
   "source": [
    "import pandas as pd\n",
    "label = np.arange(1,28001,1)\n",
    "label = np.array(label, ndmin=1)\n",
    "print(label)\n",
    "print(label.shape)\n",
    "\n",
    "y = to_value(y_test)\n",
    "y = np.array(y, ndmin=1)\n",
    "y = y.astype('uint8')\n",
    "print(y[0])\n",
    "print(y.shape)\n",
    "\n"
   ]
  },
  {
   "cell_type": "code",
   "execution_count": 305,
   "metadata": {},
   "outputs": [],
   "source": [
    "#dataframe = [label, y_test]\n",
    "#print(dataframe.shape)\n",
    "\n",
    "dataframe = pd.DataFrame({'ImageId': label, 'Label': y})\n",
    "dataframe.to_csv(\"submission.csv\", index=False)"
   ]
  },
  {
   "cell_type": "code",
   "execution_count": null,
   "metadata": {},
   "outputs": [],
   "source": []
  },
  {
   "cell_type": "code",
   "execution_count": null,
   "metadata": {},
   "outputs": [],
   "source": []
  }
 ],
 "metadata": {
  "kernelspec": {
   "display_name": "Python 3",
   "language": "python",
   "name": "python3"
  },
  "language_info": {
   "codemirror_mode": {
    "name": "ipython",
    "version": 3
   },
   "file_extension": ".py",
   "mimetype": "text/x-python",
   "name": "python",
   "nbconvert_exporter": "python",
   "pygments_lexer": "ipython3",
   "version": "3.7.1"
  }
 },
 "nbformat": 4,
 "nbformat_minor": 2
}
