{
 "cells": [
  {
   "cell_type": "markdown",
   "metadata": {},
   "source": [
    "##### for, if"
   ]
  },
  {
   "cell_type": "markdown",
   "metadata": {},
   "source": [
    "for 변수 in 리스트(또는 튜플, 문자열):\n",
    "    수행할 문장1\n",
    "    수행할 문장2\n",
    "    ..."
   ]
  },
  {
   "cell_type": "code",
   "execution_count": 1,
   "metadata": {},
   "outputs": [
    {
     "name": "stdout",
     "output_type": "stream",
     "text": [
      "1\n",
      "2\n",
      "3\n",
      "4\n",
      "6\n",
      "6\n",
      "6\n",
      "10\n",
      "10\n"
     ]
    }
   ],
   "source": [
    "for i in range (1,10):\n",
    "    if i<5:\n",
    "        print(i)\n",
    "    elif i<8:\n",
    "        print(6)\n",
    "    else:\n",
    "        print(10)"
   ]
  },
  {
   "cell_type": "code",
   "execution_count": 55,
   "metadata": {},
   "outputs": [
    {
     "name": "stdout",
     "output_type": "stream",
     "text": [
      "one\n",
      "two\n",
      "three\n"
     ]
    }
   ],
   "source": [
    " test_list = ['one', 'two', 'three'] \n",
    "for i in test_list: \n",
    "     print(i)\n"
   ]
  },
  {
   "cell_type": "markdown",
   "metadata": {},
   "source": [
    "##### while"
   ]
  },
  {
   "cell_type": "code",
   "execution_count": 8,
   "metadata": {},
   "outputs": [
    {
     "name": "stdout",
     "output_type": "stream",
     "text": [
      "45\n"
     ]
    }
   ],
   "source": [
    "n = 0\n",
    "ans = 0\n",
    "while (n < 10):\n",
    "    ans = ans + n\n",
    "    n = n + 1\n",
    "print(ans)"
   ]
  },
  {
   "cell_type": "markdown",
   "metadata": {},
   "source": [
    "##### str"
   ]
  },
  {
   "cell_type": "code",
   "execution_count": 1,
   "metadata": {
    "scrolled": true
   },
   "outputs": [
    {
     "data": {
      "text/plain": [
       "5"
      ]
     },
     "execution_count": 1,
     "metadata": {},
     "output_type": "execute_result"
    }
   ],
   "source": [
    "str = \"hello\"\n",
    "len(str)"
   ]
  },
  {
   "cell_type": "markdown",
   "metadata": {},
   "source": [
    "##### 제곱"
   ]
  },
  {
   "cell_type": "code",
   "execution_count": 121,
   "metadata": {},
   "outputs": [
    {
     "name": "stdout",
     "output_type": "stream",
     "text": [
      "1024\n"
     ]
    }
   ],
   "source": [
    "a = 2**10\n",
    "print(a)"
   ]
  },
  {
   "cell_type": "code",
   "execution_count": 143,
   "metadata": {},
   "outputs": [],
   "source": [
    "import numpy as np\n",
    "\n",
    "# 1로 전부채워진 (N,N)행렬 반환함수\n",
    "def make_filter(N):\n",
    "    result = np.ones((N,N), dtype=int)\n",
    "    result = result.ravel()\n",
    "    return result\n",
    "\n",
    "# 입력된 보드의 필터와 같은크기의 보드조각 생성 함수\n",
    "# (R,C,N)(4,3,2)이면 4행3열의 행렬에서 나올수 있는 (2,2)의 행렬을 반환하는 함수 (2차원 형태, 6개, 4) ex) (4,3,2) -> (6,4)\n",
    "def slice_of_board(board, R, C, N): #row,column,N(크기) \n",
    "    # (R-N+1, C-N+1)의 조합갯수만큼생성\n",
    "    board = np.array(board, dtype=int)\n",
    "    tmp = []\n",
    "    result = []\n",
    "    for i in range(0, R-N+1): #0~2\n",
    "        for j in range(0, C-N+1): #0~2\n",
    "            for k in range(0+i, N+i): #0~2 or 1~3\n",
    "                for l in range(0+j,N+j): #0~2 or 1~3\n",
    "                    tmp = np.concatenate((tmp,[board[k][l]]), axis=0)\n",
    "            if(i==0 and j==0):\n",
    "                result = [tmp]\n",
    "            else:\n",
    "                result = np.vstack((result,tmp))\n",
    "            tmp = []\n",
    "    result = np.array(result, dtype=int)\n",
    "    return result\n",
    "\n",
    "#필터와 보드조각을 비교해 전부1이면 1반환 아니면 0반환\n",
    "#(3,3)과 조각(3,3)을 벡터곱해서 값이 9이면 전체가 1이라는 의미\n",
    "def check_true(board, R, C, N):\n",
    "    result = 0\n",
    "    filter = make_filter(N)\n",
    "    slice  = slice_of_board(board, R, C, N)\n",
    "    for i in range(0,slice.shape[0]):\n",
    "        tmp_slice = slice[i].ravel()\n",
    "        if(np.dot(filter, tmp_slice) == N**2):\n",
    "            result = 1\n",
    "    return result\n",
    "\n",
    "#가장큰 보드 조각을 만들어서 대입을 시키다가 check_true함수로 해당크기의 필터가 존재하는걸 확인하면 그 필터의 크기를 반환\n",
    "#(4,3)사이즈의 행렬이 있다고 가정해보면, 가장먼저 (3,3)의 필터를 만들어 해당사이즈 존재하는지 확인, 있으면 9반환 없으면 2로 (2,2)넘어감\n",
    "#(1,1)에 도달하면 그냥 넓이 1을 반환\n",
    "def solution(board):\n",
    "    result = 1\n",
    "    board = np.array(board, dtype=int)\n",
    "    R = board.shape[0]\n",
    "    C = board.shape[1]\n",
    "    if R>C:\n",
    "        N = C\n",
    "    else:\n",
    "        N = R\n",
    "    while(N != 1):\n",
    "        #print(N)\n",
    "        if(check_true(board, R, C, N) == 1):\n",
    "            result = N**2\n",
    "            break\n",
    "        N = N-1\n",
    "    return result"
   ]
  },
  {
   "cell_type": "code",
   "execution_count": 142,
   "metadata": {
    "scrolled": true
   },
   "outputs": [
    {
     "data": {
      "text/plain": [
       "9"
      ]
     },
     "execution_count": 142,
     "metadata": {},
     "output_type": "execute_result"
    }
   ],
   "source": [
    "solution(board)"
   ]
  },
  {
   "cell_type": "markdown",
   "metadata": {},
   "source": [
    "### 시간 사용법"
   ]
  },
  {
   "cell_type": "code",
   "execution_count": null,
   "metadata": {},
   "outputs": [],
   "source": [
    "from datetime import datetime, timedelta\n",
    "today = datetime.today() - timedelta(days=1)\n",
    "today.strftime('%m-%d')"
   ]
  }
 ],
 "metadata": {
  "kernelspec": {
   "display_name": "Python 3",
   "language": "python",
   "name": "python3"
  },
  "language_info": {
   "codemirror_mode": {
    "name": "ipython",
    "version": 3
   },
   "file_extension": ".py",
   "mimetype": "text/x-python",
   "name": "python",
   "nbconvert_exporter": "python",
   "pygments_lexer": "ipython3",
   "version": "3.7.6"
  }
 },
 "nbformat": 4,
 "nbformat_minor": 2
}
