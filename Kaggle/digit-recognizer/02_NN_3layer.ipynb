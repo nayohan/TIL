{
 "cells": [
  {
   "cell_type": "code",
   "execution_count": 1,
   "metadata": {},
   "outputs": [
    {
     "name": "stderr",
     "output_type": "stream",
     "text": [
      "/usr/lib/python3.5/importlib/_bootstrap.py:222: RuntimeWarning: numpy.dtype size changed, may indicate binary incompatibility. Expected 96, got 88\n",
      "  return f(*args, **kwds)\n",
      "/usr/lib/python3.5/importlib/_bootstrap.py:222: RuntimeWarning: numpy.dtype size changed, may indicate binary incompatibility. Expected 96, got 88\n",
      "  return f(*args, **kwds)\n",
      "/usr/lib/python3.5/importlib/_bootstrap.py:222: RuntimeWarning: numpy.dtype size changed, may indicate binary incompatibility. Expected 96, got 88\n",
      "  return f(*args, **kwds)\n",
      "Using TensorFlow backend.\n",
      "/usr/lib/python3.5/importlib/_bootstrap.py:222: RuntimeWarning: numpy.dtype size changed, may indicate binary incompatibility. Expected 96, got 88\n",
      "  return f(*args, **kwds)\n",
      "/usr/lib/python3.5/importlib/_bootstrap.py:222: RuntimeWarning: numpy.dtype size changed, may indicate binary incompatibility. Expected 96, got 88\n",
      "  return f(*args, **kwds)\n"
     ]
    }
   ],
   "source": [
    "import numpy as np\n",
    "import pandas as pd\n",
    "import func\n",
    "\n",
    "from keras import models\n",
    "from keras import layers\n",
    "from keras import optimizers"
   ]
  },
  {
   "cell_type": "code",
   "execution_count": 2,
   "metadata": {},
   "outputs": [],
   "source": [
    "#데이터로드\n",
    "train = np.loadtxt(\"train.csv\", delimiter=',', dtype=np.float32) #42000,785\n",
    "x_test = np.loadtxt(\"test.csv\", delimiter=',', dtype=np.float32) #42000,784"
   ]
  },
  {
   "cell_type": "code",
   "execution_count": 3,
   "metadata": {},
   "outputs": [],
   "source": [
    "#데이터분할\n",
    "x_train = train[:, 1:]\n",
    "y_train = train[:, 0]\n",
    "\n",
    "#데이터 정규화\n",
    "x_train = x_train/255\n",
    "x_test = x_test/255"
   ]
  },
  {
   "cell_type": "code",
   "execution_count": 4,
   "metadata": {},
   "outputs": [
    {
     "name": "stdout",
     "output_type": "stream",
     "text": [
      "(42000, 784)\n",
      "(42000,)\n",
      "(28000, 784)\n"
     ]
    }
   ],
   "source": [
    "print(x_train.shape)\n",
    "print(y_train.shape)\n",
    "print(x_test.shape)"
   ]
  },
  {
   "cell_type": "code",
   "execution_count": 5,
   "metadata": {},
   "outputs": [],
   "source": [
    "#원핫인코딩\n",
    "y_train = func.to_categori(y_train)"
   ]
  },
  {
   "cell_type": "code",
   "execution_count": 6,
   "metadata": {},
   "outputs": [
    {
     "data": {
      "image/png": "[encoded data removed]",
      "text/plain": [
       "<Figure size 432x288 with 1 Axes>"
      ]
     },
     "metadata": {},
     "output_type": "display_data"
    },
    {
     "name": "stdout",
     "output_type": "stream",
     "text": [
      "[1. 0. 0. 0. 0. 0. 0. 0. 0. 0.]\n"
     ]
    }
   ],
   "source": [
    "func.show_data(x_train[4], y_train[4])"
   ]
  },
  {
   "cell_type": "code",
   "execution_count": 32,
   "metadata": {},
   "outputs": [
    {
     "name": "stdout",
     "output_type": "stream",
     "text": [
      "Epoch 1/100\n",
      "42000/42000 [==============================] - 3s 62us/step - loss: 0.0114 - acc: 0.9226\n",
      "Epoch 2/100\n",
      "42000/42000 [==============================] - 2s 46us/step - loss: 0.0048 - acc: 0.9688\n",
      "Epoch 3/100\n",
      "42000/42000 [==============================] - 2s 48us/step - loss: 0.0037 - acc: 0.9763\n",
      "Epoch 4/100\n",
      "42000/42000 [==============================] - 2s 47us/step - loss: 0.0030 - acc: 0.9811\n",
      "Epoch 5/100\n",
      "42000/42000 [==============================] - 2s 47us/step - loss: 0.0023 - acc: 0.9861\n",
      "Epoch 6/100\n",
      "42000/42000 [==============================] - 2s 47us/step - loss: 0.0022 - acc: 0.9862\n",
      "Epoch 7/100\n",
      "42000/42000 [==============================] - 2s 47us/step - loss: 0.0018 - acc: 0.9890\n",
      "Epoch 8/100\n",
      "42000/42000 [==============================] - 2s 47us/step - loss: 0.0017 - acc: 0.9898\n",
      "Epoch 9/100\n",
      "42000/42000 [==============================] - 2s 46us/step - loss: 0.0016 - acc: 0.9897\n",
      "Epoch 10/100\n",
      "42000/42000 [==============================] - 2s 47us/step - loss: 0.0012 - acc: 0.9925\n",
      "Epoch 11/100\n",
      "42000/42000 [==============================] - 2s 46us/step - loss: 0.0012 - acc: 0.9931\n",
      "Epoch 12/100\n",
      "42000/42000 [==============================] - 2s 46us/step - loss: 0.0013 - acc: 0.9915\n",
      "Epoch 13/100\n",
      "42000/42000 [==============================] - 2s 45us/step - loss: 0.0013 - acc: 0.9923\n",
      "Epoch 14/100\n",
      "42000/42000 [==============================] - 2s 45us/step - loss: 9.3689e-04 - acc: 0.9944\n",
      "Epoch 15/100\n",
      "42000/42000 [==============================] - 2s 45us/step - loss: 0.0010 - acc: 0.9939\n",
      "Epoch 16/100\n",
      "42000/42000 [==============================] - 2s 45us/step - loss: 9.2254e-04 - acc: 0.9945\n",
      "Epoch 17/100\n",
      "42000/42000 [==============================] - 2s 45us/step - loss: 0.0010 - acc: 0.9936\n",
      "Epoch 18/100\n",
      "42000/42000 [==============================] - 2s 45us/step - loss: 8.7364e-04 - acc: 0.9949\n",
      "Epoch 19/100\n",
      "42000/42000 [==============================] - 2s 45us/step - loss: 8.2668e-04 - acc: 0.9950\n",
      "Epoch 20/100\n",
      "42000/42000 [==============================] - 2s 45us/step - loss: 9.6309e-04 - acc: 0.9943\n",
      "Epoch 21/100\n",
      "42000/42000 [==============================] - 2s 44us/step - loss: 9.5325e-04 - acc: 0.9943\n",
      "Epoch 22/100\n",
      "42000/42000 [==============================] - 2s 44us/step - loss: 7.4358e-04 - acc: 0.9956\n",
      "Epoch 23/100\n",
      "42000/42000 [==============================] - 2s 44us/step - loss: 6.6292e-04 - acc: 0.9961\n",
      "Epoch 24/100\n",
      "42000/42000 [==============================] - 2s 43us/step - loss: 8.7736e-04 - acc: 0.9947\n",
      "Epoch 25/100\n",
      "42000/42000 [==============================] - 2s 44us/step - loss: 6.3858e-04 - acc: 0.9963\n",
      "Epoch 26/100\n",
      "42000/42000 [==============================] - 2s 44us/step - loss: 9.0014e-04 - acc: 0.9946\n",
      "Epoch 27/100\n",
      "42000/42000 [==============================] - 2s 43us/step - loss: 6.5842e-04 - acc: 0.9962\n",
      "Epoch 28/100\n",
      "42000/42000 [==============================] - 2s 44us/step - loss: 6.7802e-04 - acc: 0.9960\n",
      "Epoch 29/100\n",
      "42000/42000 [==============================] - 2s 44us/step - loss: 9.9594e-04 - acc: 0.9941\n",
      "Epoch 30/100\n",
      "42000/42000 [==============================] - 2s 43us/step - loss: 6.9829e-04 - acc: 0.9960\n",
      "Epoch 31/100\n",
      "42000/42000 [==============================] - 2s 43us/step - loss: 8.6801e-04 - acc: 0.9950\n",
      "Epoch 32/100\n",
      "42000/42000 [==============================] - 2s 43us/step - loss: 7.8173e-04 - acc: 0.9955\n",
      "Epoch 33/100\n",
      "42000/42000 [==============================] - 2s 43us/step - loss: 7.5525e-04 - acc: 0.9956\n",
      "Epoch 34/100\n",
      "42000/42000 [==============================] - 2s 44us/step - loss: 7.1590e-04 - acc: 0.9959\n",
      "Epoch 35/100\n",
      "42000/42000 [==============================] - 2s 44us/step - loss: 7.2443e-04 - acc: 0.9957\n",
      "Epoch 36/100\n",
      "42000/42000 [==============================] - 2s 43us/step - loss: 6.0498e-04 - acc: 0.9965\n",
      "Epoch 37/100\n",
      "42000/42000 [==============================] - 2s 43us/step - loss: 7.4091e-04 - acc: 0.9956\n",
      "Epoch 38/100\n",
      "42000/42000 [==============================] - 2s 43us/step - loss: 6.6025e-04 - acc: 0.9962\n",
      "Epoch 39/100\n",
      "42000/42000 [==============================] - 2s 43us/step - loss: 7.9532e-04 - acc: 0.9953\n",
      "Epoch 40/100\n",
      "42000/42000 [==============================] - 2s 43us/step - loss: 6.8697e-04 - acc: 0.9962\n",
      "Epoch 41/100\n",
      "42000/42000 [==============================] - 2s 43us/step - loss: 5.7718e-04 - acc: 0.9968\n",
      "Epoch 42/100\n",
      "42000/42000 [==============================] - 2s 43us/step - loss: 4.3904e-04 - acc: 0.9977\n",
      "Epoch 43/100\n",
      "42000/42000 [==============================] - 2s 43us/step - loss: 8.6403e-04 - acc: 0.9950\n",
      "Epoch 44/100\n",
      "42000/42000 [==============================] - 2s 42us/step - loss: 7.1724e-04 - acc: 0.9960\n",
      "Epoch 45/100\n",
      "42000/42000 [==============================] - 2s 43us/step - loss: 7.8896e-04 - acc: 0.9955\n",
      "Epoch 46/100\n",
      "42000/42000 [==============================] - 2s 43us/step - loss: 6.0473e-04 - acc: 0.9966\n",
      "Epoch 47/100\n",
      "42000/42000 [==============================] - 2s 43us/step - loss: 7.7148e-04 - acc: 0.9957\n",
      "Epoch 48/100\n",
      "42000/42000 [==============================] - 2s 43us/step - loss: 6.2285e-04 - acc: 0.9965\n",
      "Epoch 49/100\n",
      "42000/42000 [==============================] - 2s 43us/step - loss: 5.8755e-04 - acc: 0.9967\n",
      "Epoch 50/100\n",
      "42000/42000 [==============================] - 2s 43us/step - loss: 6.1019e-04 - acc: 0.9966\n",
      "Epoch 51/100\n",
      "42000/42000 [==============================] - 2s 43us/step - loss: 5.4828e-04 - acc: 0.9970\n",
      "Epoch 52/100\n",
      "42000/42000 [==============================] - 2s 44us/step - loss: 6.5072e-04 - acc: 0.9965\n",
      "Epoch 53/100\n",
      "42000/42000 [==============================] - 2s 43us/step - loss: 5.2329e-04 - acc: 0.9972\n",
      "Epoch 54/100\n",
      "42000/42000 [==============================] - 2s 43us/step - loss: 6.7090e-04 - acc: 0.9961\n",
      "Epoch 55/100\n",
      "42000/42000 [==============================] - 2s 44us/step - loss: 9.7167e-04 - acc: 0.9944\n",
      "Epoch 56/100\n",
      "42000/42000 [==============================] - 2s 43us/step - loss: 0.0010 - acc: 0.9944\n",
      "Epoch 57/100\n",
      "42000/42000 [==============================] - 2s 43us/step - loss: 6.0126e-04 - acc: 0.9967\n",
      "Epoch 58/100\n",
      "42000/42000 [==============================] - 2s 43us/step - loss: 8.0376e-04 - acc: 0.9956\n",
      "Epoch 59/100\n",
      "42000/42000 [==============================] - 2s 43us/step - loss: 7.7583e-04 - acc: 0.9956\n",
      "Epoch 60/100\n",
      "42000/42000 [==============================] - 2s 44us/step - loss: 6.7951e-04 - acc: 0.9964\n",
      "Epoch 61/100\n",
      "42000/42000 [==============================] - 2s 43us/step - loss: 4.4970e-04 - acc: 0.9975\n",
      "Epoch 62/100\n",
      "42000/42000 [==============================] - 2s 43us/step - loss: 5.5936e-04 - acc: 0.9970\n",
      "Epoch 63/100\n",
      "42000/42000 [==============================] - 2s 43us/step - loss: 7.2594e-04 - acc: 0.9960\n",
      "Epoch 64/100\n",
      "42000/42000 [==============================] - 2s 43us/step - loss: 6.0555e-04 - acc: 0.9967\n",
      "Epoch 65/100\n",
      "42000/42000 [==============================] - 2s 43us/step - loss: 7.5513e-04 - acc: 0.9959\n",
      "Epoch 66/100\n",
      "42000/42000 [==============================] - 2s 42us/step - loss: 8.8626e-04 - acc: 0.9951\n",
      "Epoch 67/100\n",
      "42000/42000 [==============================] - 2s 42us/step - loss: 5.2852e-04 - acc: 0.9973\n",
      "Epoch 68/100\n",
      "42000/42000 [==============================] - 2s 43us/step - loss: 5.0742e-04 - acc: 0.9973\n",
      "Epoch 69/100\n",
      "42000/42000 [==============================] - 2s 43us/step - loss: 9.0001e-04 - acc: 0.9951\n",
      "Epoch 70/100\n",
      "42000/42000 [==============================] - 2s 43us/step - loss: 8.3836e-04 - acc: 0.9955\n",
      "Epoch 71/100\n",
      "42000/42000 [==============================] - 2s 42us/step - loss: 0.0011 - acc: 0.9943\n",
      "Epoch 72/100\n",
      "42000/42000 [==============================] - 2s 43us/step - loss: 8.4928e-04 - acc: 0.9954\n",
      "Epoch 73/100\n",
      "42000/42000 [==============================] - 2s 43us/step - loss: 7.0273e-04 - acc: 0.9962\n",
      "Epoch 74/100\n",
      "42000/42000 [==============================] - 2s 42us/step - loss: 4.2573e-04 - acc: 0.9978\n",
      "Epoch 75/100\n",
      "42000/42000 [==============================] - 2s 42us/step - loss: 4.2392e-04 - acc: 0.9978\n",
      "Epoch 76/100\n",
      "42000/42000 [==============================] - 2s 42us/step - loss: 5.5552e-04 - acc: 0.9971\n",
      "Epoch 77/100\n",
      "42000/42000 [==============================] - 2s 42us/step - loss: 5.3724e-04 - acc: 0.9971\n",
      "Epoch 78/100\n",
      "42000/42000 [==============================] - 2s 43us/step - loss: 7.8288e-04 - acc: 0.9959\n",
      "Epoch 79/100\n"
     ]
    },
    {
     "name": "stdout",
     "output_type": "stream",
     "text": [
      "42000/42000 [==============================] - 2s 43us/step - loss: 5.4262e-04 - acc: 0.9971\n",
      "Epoch 80/100\n",
      "42000/42000 [==============================] - 2s 42us/step - loss: 9.0138e-04 - acc: 0.9953\n",
      "Epoch 81/100\n",
      "42000/42000 [==============================] - 2s 43us/step - loss: 7.3291e-04 - acc: 0.9960\n",
      "Epoch 82/100\n",
      "42000/42000 [==============================] - 2s 43us/step - loss: 8.5262e-04 - acc: 0.9955\n",
      "Epoch 83/100\n",
      "42000/42000 [==============================] - 2s 43us/step - loss: 8.2143e-04 - acc: 0.9956\n",
      "Epoch 84/100\n",
      "42000/42000 [==============================] - 2s 43us/step - loss: 7.3480e-04 - acc: 0.9961\n",
      "Epoch 85/100\n",
      "42000/42000 [==============================] - 2s 43us/step - loss: 8.4381e-04 - acc: 0.9955\n",
      "Epoch 86/100\n",
      "42000/42000 [==============================] - 2s 43us/step - loss: 6.3378e-04 - acc: 0.9966\n",
      "Epoch 87/100\n",
      "42000/42000 [==============================] - 2s 43us/step - loss: 6.1733e-04 - acc: 0.9968\n",
      "Epoch 88/100\n",
      "42000/42000 [==============================] - 2s 43us/step - loss: 7.7463e-04 - acc: 0.9959\n",
      "Epoch 89/100\n",
      "42000/42000 [==============================] - 2s 43us/step - loss: 5.5879e-04 - acc: 0.9970\n",
      "Epoch 90/100\n",
      "42000/42000 [==============================] - 2s 43us/step - loss: 5.1765e-04 - acc: 0.9973\n",
      "Epoch 91/100\n",
      "42000/42000 [==============================] - 2s 42us/step - loss: 5.9472e-04 - acc: 0.9969\n",
      "Epoch 92/100\n",
      "42000/42000 [==============================] - 2s 43us/step - loss: 8.1648e-04 - acc: 0.9956\n",
      "Epoch 93/100\n",
      "42000/42000 [==============================] - 2s 43us/step - loss: 6.1390e-04 - acc: 0.9968\n",
      "Epoch 94/100\n",
      "42000/42000 [==============================] - 2s 43us/step - loss: 7.6508e-04 - acc: 0.9959\n",
      "Epoch 95/100\n",
      "42000/42000 [==============================] - 2s 43us/step - loss: 8.5099e-04 - acc: 0.9955\n",
      "Epoch 96/100\n",
      "42000/42000 [==============================] - 2s 43us/step - loss: 7.8489e-04 - acc: 0.9959\n",
      "Epoch 97/100\n",
      "42000/42000 [==============================] - 2s 43us/step - loss: 7.1063e-04 - acc: 0.9962\n",
      "Epoch 98/100\n",
      "42000/42000 [==============================] - 2s 43us/step - loss: 7.7352e-04 - acc: 0.9958\n",
      "Epoch 99/100\n",
      "42000/42000 [==============================] - 2s 43us/step - loss: 8.2084e-04 - acc: 0.9956\n",
      "Epoch 100/100\n",
      "42000/42000 [==============================] - 2s 43us/step - loss: 5.5038e-04 - acc: 0.9971\n"
     ]
    },
    {
     "data": {
      "text/plain": [
       "<keras.callbacks.History at 0x7fce3d7fc860>"
      ]
     },
     "execution_count": 32,
     "metadata": {},
     "output_type": "execute_result"
    }
   ],
   "source": [
    "model = models.Sequential()\n",
    "model.add(layers.Dense(5000, activation='relu', input_shape=(784,)))\n",
    "model.add(layers.Dense(100, activation='relu'))\n",
    "model.add(layers.Dense(10, activation='softmax'))\n",
    "\n",
    "model.compile(optimizer=optimizers.Adam(lr=0.001), loss='mse', metrics=['accuracy'])\n",
    "model.fit(x_train, y_train, batch_size=128, epochs=100)\n"
   ]
  },
  {
   "cell_type": "code",
   "execution_count": 33,
   "metadata": {},
   "outputs": [
    {
     "name": "stdout",
     "output_type": "stream",
     "text": [
      "(28000,)\n",
      "float64\n"
     ]
    }
   ],
   "source": [
    "y_test = model.predict(x_test)\n",
    "y_test = func.to_value(y_test)\n",
    "print(y_test.shape)\n",
    "print(y_test.dtype)"
   ]
  },
  {
   "cell_type": "code",
   "execution_count": 34,
   "metadata": {},
   "outputs": [
    {
     "name": "stdout",
     "output_type": "stream",
     "text": [
      "(28000,)\n",
      "int64\n"
     ]
    }
   ],
   "source": [
    "ld = np.arange(1,28001,1)\n",
    "print(ld.shape)\n",
    "print(ld.dtype)"
   ]
  },
  {
   "cell_type": "code",
   "execution_count": 35,
   "metadata": {},
   "outputs": [
    {
     "name": "stdout",
     "output_type": "stream",
     "text": [
      "uint8\n"
     ]
    }
   ],
   "source": [
    "y_test = y_test.astype('uint8')\n",
    "print(y_test.dtype)"
   ]
  },
  {
   "cell_type": "code",
   "execution_count": 36,
   "metadata": {},
   "outputs": [],
   "source": [
    "dataframe = pd.DataFrame({'ImageId':ld, 'label': y_test})\n",
    "dataframe.to_csv(\"submission.csv\", index=False)"
   ]
  },
  {
   "cell_type": "code",
   "execution_count": null,
   "metadata": {},
   "outputs": [],
   "source": []
  },
  {
   "cell_type": "code",
   "execution_count": null,
   "metadata": {},
   "outputs": [],
   "source": []
  }
 ],
 "metadata": {
  "kernelspec": {
   "display_name": "Python 3",
   "language": "python",
   "name": "python3"
  },
  "language_info": {
   "codemirror_mode": {
    "name": "ipython",
    "version": 3
   },
   "file_extension": ".py",
   "mimetype": "text/x-python",
   "name": "python",
   "nbconvert_exporter": "python",
   "pygments_lexer": "ipython3",
   "version": "3.5.2"
  }
 },
 "nbformat": 4,
 "nbformat_minor": 2
}
